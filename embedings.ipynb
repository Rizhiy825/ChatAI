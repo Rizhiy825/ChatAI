{
 "cells": [
  {
   "cell_type": "code",
   "execution_count": 5,
   "id": "09d342b8",
   "metadata": {},
   "outputs": [
    {
     "data": {
      "application/vnd.jupyter.widget-view+json": {
       "model_id": "dc281aba3e204fc3a4717a4935792013",
       "version_major": 2,
       "version_minor": 0
      },
      "text/plain": [
       "Batches:   0%|          | 0/5 [00:00<?, ?it/s]"
      ]
     },
     "metadata": {},
     "output_type": "display_data"
    },
    {
     "data": {
      "application/vnd.jupyter.widget-view+json": {
       "model_id": "9c88a606243f458292720474646a41cb",
       "version_major": 2,
       "version_minor": 0
      },
      "text/plain": [
       "Batches:   0%|          | 0/5 [00:00<?, ?it/s]"
      ]
     },
     "metadata": {},
     "output_type": "display_data"
    },
    {
     "name": "stdout",
     "output_type": "stream",
     "text": [
      "Готово: 259 title-векторов, 259 body-векторов\n"
     ]
    }
   ],
   "source": [
    "# pip install sentence-transformers faiss-cpu\n",
    "from sentence_transformers import SentenceTransformer\n",
    "import numpy as np, faiss, json, re, unicodedata\n",
    "\n",
    "model_name = \"intfloat/multilingual-e5-base\"\n",
    "model = SentenceTransformer(model_name)\n",
    "\n",
    "# ---------- НОРМАЛИЗАЦИЯ ----------\n",
    "_ZW_CHARS = [\n",
    "    \"\\u200B\",  # ZERO WIDTH SPACE\n",
    "    \"\\u200C\",  # ZERO WIDTH NON-JOINER\n",
    "    \"\\u200D\",  # ZERO WIDTH JOINER\n",
    "    \"\\uFEFF\",  # BOM\n",
    "]\n",
    "def normalize_text(s: str) -> str:\n",
    "    if not s:\n",
    "        return \"\"\n",
    "    # Unicode NFC\n",
    "    s = unicodedata.normalize(\"NFC\", s)\n",
    "    # заменить NBSP на обычный пробел\n",
    "    s = s.replace(\"\\u00A0\", \" \")\n",
    "    # убрать zero-width символы\n",
    "    for z in _ZW_CHARS:\n",
    "        s = s.replace(z, \"\")\n",
    "    # убрать управляющие символы (кроме \\n)\n",
    "    s = \"\".join(ch for ch in s if (ch == \"\\n\") or unicodedata.category(ch)[0] != \"C\")\n",
    "    # схлопнуть пробелы/переводы строк -> один пробел\n",
    "    s = re.sub(r\"\\s+\", \" \", s).strip()\n",
    "    return s\n",
    "\n",
    "def parse_md_chunks(filepath):\n",
    "    with open(filepath, encoding=\"utf-8\") as f:\n",
    "        content = f.read()\n",
    "\n",
    "    parts = re.split(r'^\\s*---\\s*$', content, flags=re.MULTILINE)\n",
    "    docs, idx = [], 0\n",
    "    for chunk in parts:\n",
    "        chunk = chunk.strip()\n",
    "        if not chunk:\n",
    "            continue\n",
    "        m = re.match(r'^\\s*#\\s*(.+?)\\s*(?:\\r?\\n)+(.*)\\Z', chunk, flags=re.DOTALL)\n",
    "        if m:\n",
    "            title = normalize_text(m.group(1))\n",
    "            body  = normalize_text(m.group(2))\n",
    "        else:\n",
    "            title = f\"chunk_{idx+1:03}\"\n",
    "            body  = normalize_text(chunk)\n",
    "        idx += 1\n",
    "        docs.append({\"id\": f\"chunk_{idx:03}\", \"title\": title, \"body\": body})\n",
    "    return docs\n",
    "\n",
    "docs = parse_md_chunks(\"data.md\")\n",
    "\n",
    "# --- Готовим тексты с E5-специфичными префиксами для кросс-языкового поиска ---\n",
    "titles_prepared = [f\"title: {d['title']}\" for d in docs]  # префикс для заголовков\n",
    "bodies_prepared = [f\"text: {d['body']}\" for d in docs]    # префикс для основного текста\n",
    "\n",
    "# эмбеддинги (нормализация косинуса)\n",
    "E_title = model.encode(titles_prepared, batch_size=64, show_progress_bar=True, normalize_embeddings=True)\n",
    "E_body  = model.encode(bodies_prepared, batch_size=64, show_progress_bar=True, normalize_embeddings=True)\n",
    "\n",
    "E_title = np.asarray(E_title, dtype=\"float32\")\n",
    "E_body  = np.asarray(E_body,  dtype=\"float32\")\n",
    "assert E_title.shape == E_body.shape\n",
    "dim = E_title.shape[1]\n",
    "\n",
    "idx_title = faiss.IndexFlatIP(dim)\n",
    "idx_body  = faiss.IndexFlatIP(dim)\n",
    "idx_title.add(E_title)\n",
    "idx_body.add(E_body)\n",
    "\n",
    "faiss.write_index(idx_title, \"smartwop_title.faiss\")\n",
    "faiss.write_index(idx_body,  \"smartwop_body.faiss\")\n",
    "with open(\"smartwop_docs_meta.json\", \"w\", encoding=\"utf-8\") as f:\n",
    "    json.dump(docs, f, ensure_ascii=False, indent=2)\n",
    "\n",
    "print(f\"Готово: {idx_title.ntotal} title-векторов, {idx_body.ntotal} body-векторов\")"
   ]
  }
 ],
 "metadata": {
  "kernelspec": {
   "display_name": "Python 3",
   "language": "python",
   "name": "python3"
  },
  "language_info": {
   "codemirror_mode": {
    "name": "ipython",
    "version": 3
   },
   "file_extension": ".py",
   "mimetype": "text/x-python",
   "name": "python",
   "nbconvert_exporter": "python",
   "pygments_lexer": "ipython3",
   "version": "3.10.11"
  }
 },
 "nbformat": 4,
 "nbformat_minor": 5
}
