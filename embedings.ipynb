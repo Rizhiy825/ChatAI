{
 "cells": [
  {
   "cell_type": "code",
   "execution_count": 5,
   "id": "09d342b8",
   "metadata": {},
   "outputs": [
    {
     "data": {
      "application/vnd.jupyter.widget-view+json": {
       "model_id": "aadeb563270b4187a00f709ab2843263",
       "version_major": 2,
       "version_minor": 0
      },
      "text/plain": [
       "Batches:   0%|          | 0/2 [00:00<?, ?it/s]"
      ]
     },
     "metadata": {},
     "output_type": "display_data"
    },
    {
     "name": "stdout",
     "output_type": "stream",
     "text": [
      "Готово: 107 векторов\n"
     ]
    }
   ],
   "source": [
    "# pip install sentence-transformers faiss-cpu\n",
    "from sentence_transformers import SentenceTransformer\n",
    "import numpy as np, faiss, os, json, re\n",
    "\n",
    "# 1) модель (выберите одну)\n",
    "model_name = \"intfloat/multilingual-e5-base\"   # или \"BAAI/bge-m3\", \"paraphrase-multilingual-MiniLM-L12-v2\"\n",
    "model = SentenceTransformer(model_name)\n",
    "\n",
    "def build_chunk_text(title: str, body: str, title_weight: int = 3) -> str:\n",
    "    \"\"\"\n",
    "    Усиливаем заголовок: повторяем его несколько раз + помечаем как title.\n",
    "    Для E5/INSTRUCT-моделей хорошо добавлять префиксы 'passage:'\n",
    "    \"\"\"\n",
    "    title_clean = re.sub(r\"\\s+\", \" \", title).strip()\n",
    "    body_clean  = re.sub(r\"\\s+\", \" \", body).strip()\n",
    "    boosted = (\"title: \" + title_clean + \" \") * title_weight\n",
    "    return f\"passage: {boosted}content: {body_clean}\"\n",
    "\n",
    "# 2) парсим data.md на чанки\n",
    "def parse_md_chunks(filepath):\n",
    "    with open(filepath, encoding=\"utf-8\") as f:\n",
    "        content = f.read()\n",
    "    raw_chunks = content.split(\"---\")\n",
    "    docs = []\n",
    "    for i, chunk in enumerate(raw_chunks):\n",
    "        chunk = chunk.strip()\n",
    "        if not chunk:\n",
    "            continue\n",
    "        # Ищем первый заголовок # ...\n",
    "        m = re.match(r\"#\\s*(.+?)(?:\\n|$)(.*)\", chunk, re.DOTALL)\n",
    "        if m:\n",
    "            title = m.group(1).strip()\n",
    "            body = m.group(2).strip()\n",
    "        else:\n",
    "            title = f\"chunk_{i+1:03}\"\n",
    "            body = chunk\n",
    "        text = build_chunk_text(title, body)\n",
    "        docs.append({\"id\": f\"chunk_{i+1:03}\", \"text\": text})\n",
    "    return docs\n",
    "\n",
    "docs = parse_md_chunks(\"data.md\")\n",
    "\n",
    "# 3) эмбеддинги (батчево)\n",
    "texts = [d[\"text\"] for d in docs]\n",
    "emb = model.encode(texts, batch_size=64, show_progress_bar=True, normalize_embeddings=True)  # normalize=True -> косинус = dot\n",
    "\n",
    "emb = np.asarray(emb, dtype=\"float32\")\n",
    "dim = emb.shape[1]\n",
    "\n",
    "# 4) FAISS индекс (Inner Product для косинуса, так как мы нормировали)\n",
    "index = faiss.IndexFlatIP(dim)\n",
    "index.add(emb)\n",
    "\n",
    "# 5) сохраняем индекс и метаданные\n",
    "faiss.write_index(index, \"smartwop_docs.faiss\")\n",
    "with open(\"smartwop_docs_meta.json\", \"w\", encoding=\"utf-8\") as f:\n",
    "    json.dump(docs, f, ensure_ascii=False, indent=2)\n",
    "\n",
    "print(\"Готово:\", index.ntotal, \"векторов\")\n"
   ]
  }
 ],
 "metadata": {
  "kernelspec": {
   "display_name": "Python 3",
   "language": "python",
   "name": "python3"
  },
  "language_info": {
   "codemirror_mode": {
    "name": "ipython",
    "version": 3
   },
   "file_extension": ".py",
   "mimetype": "text/x-python",
   "name": "python",
   "nbconvert_exporter": "python",
   "pygments_lexer": "ipython3",
   "version": "3.10.11"
  }
 },
 "nbformat": 4,
 "nbformat_minor": 5
}
